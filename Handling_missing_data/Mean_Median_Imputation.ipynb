{
 "cells": [
  {
   "cell_type": "markdown",
   "metadata": {},
   "source": [
    "## When to use\n",
    "#### 1) MCAR\n",
    "#### 2) less than 5% data is missing"
   ]
  },
  {
   "cell_type": "code",
   "execution_count": 1,
   "metadata": {},
   "outputs": [],
   "source": [
    "from sklearn.impute import SimpleImputer\n",
    "from sklearn.model_selection import train_test_split\n",
    "from sklearn.compose import ColumnTransformer\n",
    "\n",
    "import numpy as np\n",
    "import pandas as pd\n",
    "import matplotlib.pyplot as plt"
   ]
  },
  {
   "cell_type": "code",
   "execution_count": 2,
   "metadata": {},
   "outputs": [
    {
     "data": {
      "text/html": [
       "<div>\n",
       "<style scoped>\n",
       "    .dataframe tbody tr th:only-of-type {\n",
       "        vertical-align: middle;\n",
       "    }\n",
       "\n",
       "    .dataframe tbody tr th {\n",
       "        vertical-align: top;\n",
       "    }\n",
       "\n",
       "    .dataframe thead th {\n",
       "        text-align: right;\n",
       "    }\n",
       "</style>\n",
       "<table border=\"1\" class=\"dataframe\">\n",
       "  <thead>\n",
       "    <tr style=\"text-align: right;\">\n",
       "      <th></th>\n",
       "      <th>Age</th>\n",
       "      <th>Fare</th>\n",
       "      <th>Family</th>\n",
       "      <th>Survived</th>\n",
       "    </tr>\n",
       "  </thead>\n",
       "  <tbody>\n",
       "    <tr>\n",
       "      <th>0</th>\n",
       "      <td>22.0</td>\n",
       "      <td>7.2500</td>\n",
       "      <td>1</td>\n",
       "      <td>0</td>\n",
       "    </tr>\n",
       "    <tr>\n",
       "      <th>1</th>\n",
       "      <td>38.0</td>\n",
       "      <td>71.2833</td>\n",
       "      <td>1</td>\n",
       "      <td>1</td>\n",
       "    </tr>\n",
       "    <tr>\n",
       "      <th>2</th>\n",
       "      <td>26.0</td>\n",
       "      <td>7.9250</td>\n",
       "      <td>0</td>\n",
       "      <td>1</td>\n",
       "    </tr>\n",
       "    <tr>\n",
       "      <th>3</th>\n",
       "      <td>35.0</td>\n",
       "      <td>53.1000</td>\n",
       "      <td>1</td>\n",
       "      <td>1</td>\n",
       "    </tr>\n",
       "    <tr>\n",
       "      <th>4</th>\n",
       "      <td>35.0</td>\n",
       "      <td>8.0500</td>\n",
       "      <td>0</td>\n",
       "      <td>0</td>\n",
       "    </tr>\n",
       "  </tbody>\n",
       "</table>\n",
       "</div>"
      ],
      "text/plain": [
       "    Age     Fare  Family  Survived\n",
       "0  22.0   7.2500       1         0\n",
       "1  38.0  71.2833       1         1\n",
       "2  26.0   7.9250       0         1\n",
       "3  35.0  53.1000       1         1\n",
       "4  35.0   8.0500       0         0"
      ]
     },
     "execution_count": 2,
     "metadata": {},
     "output_type": "execute_result"
    }
   ],
   "source": [
    "df = pd.read_csv(\"titanic_toy.csv\")\n",
    "df.head()"
   ]
  },
  {
   "cell_type": "code",
   "execution_count": 3,
   "metadata": {},
   "outputs": [
    {
     "data": {
      "text/plain": [
       "Age         0.198653\n",
       "Fare        0.050505\n",
       "Family      0.000000\n",
       "Survived    0.000000\n",
       "dtype: float64"
      ]
     },
     "execution_count": 3,
     "metadata": {},
     "output_type": "execute_result"
    }
   ],
   "source": [
    "df.isnull().mean()    # What percentage of data is missing in each feature"
   ]
  },
  {
   "cell_type": "code",
   "execution_count": 4,
   "metadata": {},
   "outputs": [
    {
     "data": {
      "text/plain": [
       "((712, 3), (179, 3), (712,), (179,))"
      ]
     },
     "execution_count": 4,
     "metadata": {},
     "output_type": "execute_result"
    }
   ],
   "source": [
    "X_train,X_test,Y_train,Y_test = train_test_split(df.drop('Survived', axis = 1),\n",
    "                                                 df['Survived'],\n",
    "                                                test_size = 0.2, random_state = 1)\n",
    "X_train.shape,X_test.shape,Y_train.shape,Y_test.shape"
   ]
  },
  {
   "cell_type": "code",
   "execution_count": 5,
   "metadata": {},
   "outputs": [],
   "source": [
    "mean_age = X_train['Age'].mean()\n",
    "median_age = X_train['Age'].median()\n",
    "\n",
    "mean_fare = X_train['Fare'].mean()\n",
    "median_fare = X_train['Fare'].median()"
   ]
  },
  {
   "cell_type": "code",
   "execution_count": 6,
   "metadata": {},
   "outputs": [
    {
     "data": {
      "text/plain": [
       "(30.166232394366194, 29.0, 31.87455466666662, 31.87455466666662)"
      ]
     },
     "execution_count": 6,
     "metadata": {},
     "output_type": "execute_result"
    }
   ],
   "source": [
    "mean_age,median_age,mean_fare,mean_fare"
   ]
  },
  {
   "cell_type": "code",
   "execution_count": 7,
   "metadata": {},
   "outputs": [],
   "source": [
    "X_train['mean_age'] = X_train['Age'].fillna(mean_age)\n",
    "X_train['median_age'] = X_train['Age'].fillna(median_age)\n",
    "\n",
    "X_train['mean_fare'] = X_train['Fare'].fillna(mean_fare)\n",
    "X_train['median_fare'] = X_train['Fare'].fillna(median_fare)"
   ]
  },
  {
   "cell_type": "code",
   "execution_count": 8,
   "metadata": {},
   "outputs": [
    {
     "data": {
      "text/html": [
       "<div>\n",
       "<style scoped>\n",
       "    .dataframe tbody tr th:only-of-type {\n",
       "        vertical-align: middle;\n",
       "    }\n",
       "\n",
       "    .dataframe tbody tr th {\n",
       "        vertical-align: top;\n",
       "    }\n",
       "\n",
       "    .dataframe thead th {\n",
       "        text-align: right;\n",
       "    }\n",
       "</style>\n",
       "<table border=\"1\" class=\"dataframe\">\n",
       "  <thead>\n",
       "    <tr style=\"text-align: right;\">\n",
       "      <th></th>\n",
       "      <th>Age</th>\n",
       "      <th>Fare</th>\n",
       "      <th>Family</th>\n",
       "      <th>mean_age</th>\n",
       "      <th>median_age</th>\n",
       "      <th>mean_fare</th>\n",
       "      <th>median_fare</th>\n",
       "    </tr>\n",
       "  </thead>\n",
       "  <tbody>\n",
       "    <tr>\n",
       "      <th>837</th>\n",
       "      <td>NaN</td>\n",
       "      <td>8.050</td>\n",
       "      <td>0</td>\n",
       "      <td>30.166232</td>\n",
       "      <td>29.0</td>\n",
       "      <td>8.050</td>\n",
       "      <td>8.050</td>\n",
       "    </tr>\n",
       "    <tr>\n",
       "      <th>188</th>\n",
       "      <td>40.0</td>\n",
       "      <td>15.500</td>\n",
       "      <td>2</td>\n",
       "      <td>40.000000</td>\n",
       "      <td>40.0</td>\n",
       "      <td>15.500</td>\n",
       "      <td>15.500</td>\n",
       "    </tr>\n",
       "    <tr>\n",
       "      <th>416</th>\n",
       "      <td>34.0</td>\n",
       "      <td>32.500</td>\n",
       "      <td>2</td>\n",
       "      <td>34.000000</td>\n",
       "      <td>34.0</td>\n",
       "      <td>32.500</td>\n",
       "      <td>32.500</td>\n",
       "    </tr>\n",
       "    <tr>\n",
       "      <th>24</th>\n",
       "      <td>8.0</td>\n",
       "      <td>21.075</td>\n",
       "      <td>4</td>\n",
       "      <td>8.000000</td>\n",
       "      <td>8.0</td>\n",
       "      <td>21.075</td>\n",
       "      <td>21.075</td>\n",
       "    </tr>\n",
       "    <tr>\n",
       "      <th>751</th>\n",
       "      <td>6.0</td>\n",
       "      <td>12.475</td>\n",
       "      <td>1</td>\n",
       "      <td>6.000000</td>\n",
       "      <td>6.0</td>\n",
       "      <td>12.475</td>\n",
       "      <td>12.475</td>\n",
       "    </tr>\n",
       "  </tbody>\n",
       "</table>\n",
       "</div>"
      ],
      "text/plain": [
       "      Age    Fare  Family   mean_age  median_age  mean_fare  median_fare\n",
       "837   NaN   8.050       0  30.166232        29.0      8.050        8.050\n",
       "188  40.0  15.500       2  40.000000        40.0     15.500       15.500\n",
       "416  34.0  32.500       2  34.000000        34.0     32.500       32.500\n",
       "24    8.0  21.075       4   8.000000         8.0     21.075       21.075\n",
       "751   6.0  12.475       1   6.000000         6.0     12.475       12.475"
      ]
     },
     "execution_count": 8,
     "metadata": {},
     "output_type": "execute_result"
    }
   ],
   "source": [
    "X_train.sample(5)"
   ]
  },
  {
   "cell_type": "markdown",
   "metadata": {},
   "source": [
    "## While applying Mean/Median Imputation there should not be large change in varience\n",
    "### here in case of Age there is a large change in varience so for age Mean/Median Imputation is not better idea to apply"
   ]
  },
  {
   "cell_type": "code",
   "execution_count": 9,
   "metadata": {},
   "outputs": [
    {
     "name": "stdout",
     "output_type": "stream",
     "text": [
      "Original Age variable variance:  220.7125508594779\n",
      "Age Variance after median imputation:  176.23102602680237\n",
      "Age Variance after mean imputation:  176.0112747360393\n",
      "Original Fare variable variance:  2179.2211148474044\n",
      "Fare Variance after median imputation:  2080.7804077558935\n",
      "Fare Variance after mean imputation:  2065.81579663453\n"
     ]
    }
   ],
   "source": [
    "print('Original Age variable variance: ', X_train['Age'].var())\n",
    "print('Age Variance after median imputation: ', X_train['median_age'].var())\n",
    "print('Age Variance after mean imputation: ', X_train['mean_age'].var())\n",
    "\n",
    "print('Original Fare variable variance: ', X_train['Fare'].var())\n",
    "print('Fare Variance after median imputation: ', X_train['median_fare'].var())\n",
    "print('Fare Variance after mean imputation: ', X_train['mean_fare'].var())"
   ]
  },
  {
   "cell_type": "markdown",
   "metadata": {},
   "source": [
    "## Change in distribution\n",
    "### for Age distribution is changed, but for Fare its almost same and overlapping"
   ]
  },
  {
   "cell_type": "code",
   "execution_count": 12,
   "metadata": {},
   "outputs": [
    {
     "data": {
      "text/plain": [
       "<matplotlib.legend.Legend at 0xf2dac19af0>"
      ]
     },
     "execution_count": 12,
     "metadata": {},
     "output_type": "execute_result"
    },
    {
     "data": {
      "image/png": "[encoded data removed]",
      "text/plain": [
       "<Figure size 432x288 with 1 Axes>"
      ]
     },
     "metadata": {
      "needs_background": "light"
     },
     "output_type": "display_data"
    }
   ],
   "source": [
    "fig = plt.figure()\n",
    "ax = fig.add_subplot(111)\n",
    "\n",
    "# original variable distribution\n",
    "X_train['Age'].plot(kind='kde', ax=ax)\n",
    "\n",
    "# variable imputed with the median\n",
    "X_train['median_age'].plot(kind='kde', ax=ax, color='red')\n",
    "\n",
    "# variable imputed with the mean\n",
    "X_train['mean_age'].plot(kind='kde', ax=ax, color='green')\n",
    "\n",
    "# add legends\n",
    "lines, labels = ax.get_legend_handles_labels()\n",
    "ax.legend(lines, labels, loc='best')"
   ]
  },
  {
   "cell_type": "code",
   "execution_count": 10,
   "metadata": {},
   "outputs": [
    {
     "data": {
      "text/plain": [
       "<matplotlib.legend.Legend at 0xdc32a6e0a0>"
      ]
     },
     "execution_count": 10,
     "metadata": {},
     "output_type": "execute_result"
    },
    {
     "data": {
      "image/png": "[encoded data removed]",
      "text/plain": [
       "<Figure size 432x288 with 1 Axes>"
      ]
     },
     "metadata": {
      "needs_background": "light"
     },
     "output_type": "display_data"
    }
   ],
   "source": [
    "fig = plt.figure()\n",
    "ax = fig.add_subplot(111)\n",
    "\n",
    "# original variable distribution\n",
    "X_train['Fare'].plot(kind='kde', ax=ax)\n",
    "\n",
    "# variable imputed with the median\n",
    "X_train['median_fare'].plot(kind='kde', ax=ax, color='red')\n",
    "\n",
    "# variable imputed with the mean\n",
    "X_train['mean_fare'].plot(kind='kde', ax=ax, color='green')\n",
    "\n",
    "# add legends\n",
    "lines, labels = ax.get_legend_handles_labels()\n",
    "ax.legend(lines, labels, loc='best')"
   ]
  },
  {
   "cell_type": "code",
   "execution_count": 12,
   "metadata": {},
   "outputs": [
    {
     "data": {
      "text/html": [
       "<div>\n",
       "<style scoped>\n",
       "    .dataframe tbody tr th:only-of-type {\n",
       "        vertical-align: middle;\n",
       "    }\n",
       "\n",
       "    .dataframe tbody tr th {\n",
       "        vertical-align: top;\n",
       "    }\n",
       "\n",
       "    .dataframe thead th {\n",
       "        text-align: right;\n",
       "    }\n",
       "</style>\n",
       "<table border=\"1\" class=\"dataframe\">\n",
       "  <thead>\n",
       "    <tr style=\"text-align: right;\">\n",
       "      <th></th>\n",
       "      <th>Age</th>\n",
       "      <th>Fare</th>\n",
       "      <th>Family</th>\n",
       "      <th>mean_age</th>\n",
       "      <th>median_age</th>\n",
       "      <th>mean_fare</th>\n",
       "      <th>median_fare</th>\n",
       "    </tr>\n",
       "  </thead>\n",
       "  <tbody>\n",
       "    <tr>\n",
       "      <th>Age</th>\n",
       "      <td>220.712551</td>\n",
       "      <td>80.290359</td>\n",
       "      <td>-5.974166</td>\n",
       "      <td>220.712551</td>\n",
       "      <td>220.712551</td>\n",
       "      <td>75.785411</td>\n",
       "      <td>75.994880</td>\n",
       "    </tr>\n",
       "    <tr>\n",
       "      <th>Fare</th>\n",
       "      <td>80.290359</td>\n",
       "      <td>2179.221115</td>\n",
       "      <td>17.962001</td>\n",
       "      <td>63.754196</td>\n",
       "      <td>65.792314</td>\n",
       "      <td>2179.221115</td>\n",
       "      <td>2179.221115</td>\n",
       "    </tr>\n",
       "    <tr>\n",
       "      <th>Family</th>\n",
       "      <td>-5.974166</td>\n",
       "      <td>17.962001</td>\n",
       "      <td>2.265902</td>\n",
       "      <td>-4.764208</td>\n",
       "      <td>-4.722243</td>\n",
       "      <td>17.027269</td>\n",
       "      <td>16.954058</td>\n",
       "    </tr>\n",
       "    <tr>\n",
       "      <th>mean_age</th>\n",
       "      <td>220.712551</td>\n",
       "      <td>63.754196</td>\n",
       "      <td>-4.764208</td>\n",
       "      <td>176.011275</td>\n",
       "      <td>176.011275</td>\n",
       "      <td>60.436467</td>\n",
       "      <td>60.603512</td>\n",
       "    </tr>\n",
       "    <tr>\n",
       "      <th>median_age</th>\n",
       "      <td>220.712551</td>\n",
       "      <td>65.792314</td>\n",
       "      <td>-4.722243</td>\n",
       "      <td>176.011275</td>\n",
       "      <td>176.231026</td>\n",
       "      <td>62.368522</td>\n",
       "      <td>62.464631</td>\n",
       "    </tr>\n",
       "    <tr>\n",
       "      <th>mean_fare</th>\n",
       "      <td>75.785411</td>\n",
       "      <td>2179.221115</td>\n",
       "      <td>17.027269</td>\n",
       "      <td>60.436467</td>\n",
       "      <td>62.368522</td>\n",
       "      <td>2065.815797</td>\n",
       "      <td>2065.815797</td>\n",
       "    </tr>\n",
       "    <tr>\n",
       "      <th>median_fare</th>\n",
       "      <td>75.994880</td>\n",
       "      <td>2179.221115</td>\n",
       "      <td>16.954058</td>\n",
       "      <td>60.603512</td>\n",
       "      <td>62.464631</td>\n",
       "      <td>2065.815797</td>\n",
       "      <td>2080.780408</td>\n",
       "    </tr>\n",
       "  </tbody>\n",
       "</table>\n",
       "</div>"
      ],
      "text/plain": [
       "                    Age         Fare     Family    mean_age  median_age  \\\n",
       "Age          220.712551    80.290359  -5.974166  220.712551  220.712551   \n",
       "Fare          80.290359  2179.221115  17.962001   63.754196   65.792314   \n",
       "Family        -5.974166    17.962001   2.265902   -4.764208   -4.722243   \n",
       "mean_age     220.712551    63.754196  -4.764208  176.011275  176.011275   \n",
       "median_age   220.712551    65.792314  -4.722243  176.011275  176.231026   \n",
       "mean_fare     75.785411  2179.221115  17.027269   60.436467   62.368522   \n",
       "median_fare   75.994880  2179.221115  16.954058   60.603512   62.464631   \n",
       "\n",
       "               mean_fare  median_fare  \n",
       "Age            75.785411    75.994880  \n",
       "Fare         2179.221115  2179.221115  \n",
       "Family         17.027269    16.954058  \n",
       "mean_age       60.436467    60.603512  \n",
       "median_age     62.368522    62.464631  \n",
       "mean_fare    2065.815797  2065.815797  \n",
       "median_fare  2065.815797  2080.780408  "
      ]
     },
     "execution_count": 12,
     "metadata": {},
     "output_type": "execute_result"
    }
   ],
   "source": [
    "X_train.cov()   # compare covarience of original data and data after Imputation"
   ]
  },
  {
   "cell_type": "code",
   "execution_count": null,
   "metadata": {},
   "outputs": [],
   "source": [
    "X_train"
   ]
  },
  {
   "cell_type": "code",
   "execution_count": 14,
   "metadata": {},
   "outputs": [
    {
     "data": {
      "text/html": [
       "<div>\n",
       "<style scoped>\n",
       "    .dataframe tbody tr th:only-of-type {\n",
       "        vertical-align: middle;\n",
       "    }\n",
       "\n",
       "    .dataframe tbody tr th {\n",
       "        vertical-align: top;\n",
       "    }\n",
       "\n",
       "    .dataframe thead th {\n",
       "        text-align: right;\n",
       "    }\n",
       "</style>\n",
       "<table border=\"1\" class=\"dataframe\">\n",
       "  <thead>\n",
       "    <tr style=\"text-align: right;\">\n",
       "      <th></th>\n",
       "      <th>Age</th>\n",
       "      <th>Fare</th>\n",
       "      <th>Family</th>\n",
       "      <th>mean_age</th>\n",
       "      <th>median_age</th>\n",
       "      <th>mean_fare</th>\n",
       "      <th>median_fare</th>\n",
       "    </tr>\n",
       "  </thead>\n",
       "  <tbody>\n",
       "    <tr>\n",
       "      <th>Age</th>\n",
       "      <td>1.000000</td>\n",
       "      <td>0.109163</td>\n",
       "      <td>-0.283794</td>\n",
       "      <td>1.000000</td>\n",
       "      <td>1.000000</td>\n",
       "      <td>0.106805</td>\n",
       "      <td>0.106628</td>\n",
       "    </tr>\n",
       "    <tr>\n",
       "      <th>Fare</th>\n",
       "      <td>0.109163</td>\n",
       "      <td>1.000000</td>\n",
       "      <td>0.253653</td>\n",
       "      <td>0.102470</td>\n",
       "      <td>0.105678</td>\n",
       "      <td>1.000000</td>\n",
       "      <td>1.000000</td>\n",
       "    </tr>\n",
       "    <tr>\n",
       "      <th>Family</th>\n",
       "      <td>-0.283794</td>\n",
       "      <td>0.253653</td>\n",
       "      <td>1.000000</td>\n",
       "      <td>-0.238561</td>\n",
       "      <td>-0.236312</td>\n",
       "      <td>0.248874</td>\n",
       "      <td>0.246911</td>\n",
       "    </tr>\n",
       "    <tr>\n",
       "      <th>mean_age</th>\n",
       "      <td>1.000000</td>\n",
       "      <td>0.102470</td>\n",
       "      <td>-0.238561</td>\n",
       "      <td>1.000000</td>\n",
       "      <td>0.999376</td>\n",
       "      <td>0.100227</td>\n",
       "      <td>0.100142</td>\n",
       "    </tr>\n",
       "    <tr>\n",
       "      <th>median_age</th>\n",
       "      <td>1.000000</td>\n",
       "      <td>0.105678</td>\n",
       "      <td>-0.236312</td>\n",
       "      <td>0.999376</td>\n",
       "      <td>1.000000</td>\n",
       "      <td>0.103366</td>\n",
       "      <td>0.103153</td>\n",
       "    </tr>\n",
       "    <tr>\n",
       "      <th>mean_fare</th>\n",
       "      <td>0.106805</td>\n",
       "      <td>1.000000</td>\n",
       "      <td>0.248874</td>\n",
       "      <td>0.100227</td>\n",
       "      <td>0.103366</td>\n",
       "      <td>1.000000</td>\n",
       "      <td>0.996398</td>\n",
       "    </tr>\n",
       "    <tr>\n",
       "      <th>median_fare</th>\n",
       "      <td>0.106628</td>\n",
       "      <td>1.000000</td>\n",
       "      <td>0.246911</td>\n",
       "      <td>0.100142</td>\n",
       "      <td>0.103153</td>\n",
       "      <td>0.996398</td>\n",
       "      <td>1.000000</td>\n",
       "    </tr>\n",
       "  </tbody>\n",
       "</table>\n",
       "</div>"
      ],
      "text/plain": [
       "                  Age      Fare    Family  mean_age  median_age  mean_fare  \\\n",
       "Age          1.000000  0.109163 -0.283794  1.000000    1.000000   0.106805   \n",
       "Fare         0.109163  1.000000  0.253653  0.102470    0.105678   1.000000   \n",
       "Family      -0.283794  0.253653  1.000000 -0.238561   -0.236312   0.248874   \n",
       "mean_age     1.000000  0.102470 -0.238561  1.000000    0.999376   0.100227   \n",
       "median_age   1.000000  0.105678 -0.236312  0.999376    1.000000   0.103366   \n",
       "mean_fare    0.106805  1.000000  0.248874  0.100227    0.103366   1.000000   \n",
       "median_fare  0.106628  1.000000  0.246911  0.100142    0.103153   0.996398   \n",
       "\n",
       "             median_fare  \n",
       "Age             0.106628  \n",
       "Fare            1.000000  \n",
       "Family          0.246911  \n",
       "mean_age        0.100142  \n",
       "median_age      0.103153  \n",
       "mean_fare       0.996398  \n",
       "median_fare     1.000000  "
      ]
     },
     "execution_count": 14,
     "metadata": {},
     "output_type": "execute_result"
    }
   ],
   "source": [
    "X_train.corr()   # compare correlation of original data and data after Imputation"
   ]
  },
  {
   "cell_type": "code",
   "execution_count": 20,
   "metadata": {},
   "outputs": [
    {
     "data": {
      "text/plain": [
       "<matplotlib.axes._subplots.AxesSubplot at 0xdc354f7b20>"
      ]
     },
     "execution_count": 20,
     "metadata": {},
     "output_type": "execute_result"
    },
    {
     "data": {
      "image/png": "[encoded data removed]",
      "text/plain": [
       "<Figure size 432x288 with 1 Axes>"
      ]
     },
     "metadata": {
      "needs_background": "light"
     },
     "output_type": "display_data"
    }
   ],
   "source": [
    "X_train[['Age','median_age','mean_age']].boxplot()  \n",
    "# In original data there are less outliers, but after mean/median imputation outliers increased.\n",
    "# so this also shows that here mean/median imputation didn't worked properly."
   ]
  },
  {
   "cell_type": "code",
   "execution_count": 21,
   "metadata": {},
   "outputs": [
    {
     "data": {
      "text/plain": [
       "<matplotlib.axes._subplots.AxesSubplot at 0xdc35289eb0>"
      ]
     },
     "execution_count": 21,
     "metadata": {},
     "output_type": "execute_result"
    },
    {
     "data": {
      "image/png": "[encoded data removed]",
      "text/plain": [
       "<Figure size 432x288 with 1 Axes>"
      ]
     },
     "metadata": {
      "needs_background": "light"
     },
     "output_type": "display_data"
    }
   ],
   "source": [
    "X_train[['Fare','mean_fare','median_fare']].boxplot() \n",
    "# In original data there are  outliers, and after mean/median imputation no. of outliers remained same.\n",
    "# so this also shows that here mean/median imputation worked properly"
   ]
  },
  {
   "cell_type": "markdown",
   "metadata": {},
   "source": [
    "# Imputation Using Sklearn"
   ]
  },
  {
   "cell_type": "code",
   "execution_count": 22,
   "metadata": {},
   "outputs": [
    {
     "data": {
      "text/plain": [
       "((712, 3), (179, 3), (712,), (179,))"
      ]
     },
     "execution_count": 22,
     "metadata": {},
     "output_type": "execute_result"
    }
   ],
   "source": [
    "X_train,X_test,Y_train,Y_test = train_test_split(df.drop('Survived', axis = 1),\n",
    "                                                 df['Survived'],\n",
    "                                                test_size = 0.2, random_state = 1)\n",
    "X_train.shape,X_test.shape,Y_train.shape,Y_test.shape"
   ]
  },
  {
   "cell_type": "code",
   "execution_count": 26,
   "metadata": {},
   "outputs": [],
   "source": [
    "Imputer1 = SimpleImputer(strategy='median')\n",
    "Imputer2 = SimpleImputer(strategy='mean')"
   ]
  },
  {
   "cell_type": "code",
   "execution_count": 27,
   "metadata": {},
   "outputs": [],
   "source": [
    "trf = ColumnTransformer([\n",
    "    ('imputer1',Imputer1,['Age']),\n",
    "    ('imputer2',Imputer2,['Fare'])\n",
    "   ], remainder='passthrough')"
   ]
  },
  {
   "cell_type": "code",
   "execution_count": 42,
   "metadata": {},
   "outputs": [
    {
     "data": {
      "text/plain": [
       "ColumnTransformer(remainder='passthrough',\n",
       "                  transformers=[('imputer1', SimpleImputer(strategy='median'),\n",
       "                                 ['Age']),\n",
       "                                ('imputer2', SimpleImputer(), ['Fare'])])"
      ]
     },
     "execution_count": 42,
     "metadata": {},
     "output_type": "execute_result"
    }
   ],
   "source": [
    "trf.fit(X_train)"
   ]
  },
  {
   "cell_type": "code",
   "execution_count": 43,
   "metadata": {},
   "outputs": [
    {
     "data": {
      "text/plain": [
       "array([29.])"
      ]
     },
     "execution_count": 43,
     "metadata": {},
     "output_type": "execute_result"
    }
   ],
   "source": [
    "trf.named_transformers_['imputer1'].statistics_"
   ]
  },
  {
   "cell_type": "code",
   "execution_count": 44,
   "metadata": {},
   "outputs": [
    {
     "data": {
      "text/plain": [
       "array([31.87455467])"
      ]
     },
     "execution_count": 44,
     "metadata": {},
     "output_type": "execute_result"
    }
   ],
   "source": [
    "trf.named_transformers_['imputer2'].statistics_"
   ]
  },
  {
   "cell_type": "code",
   "execution_count": 57,
   "metadata": {},
   "outputs": [],
   "source": [
    "X_train_transform = trf.fit_transform(X_train)\n",
    "df_transformed = pd.DataFrame(X_train_transform, columns=['Age','Fare','Family'])"
   ]
  },
  {
   "cell_type": "code",
   "execution_count": 56,
   "metadata": {},
   "outputs": [
    {
     "data": {
      "text/html": [
       "<div>\n",
       "<style scoped>\n",
       "    .dataframe tbody tr th:only-of-type {\n",
       "        vertical-align: middle;\n",
       "    }\n",
       "\n",
       "    .dataframe tbody tr th {\n",
       "        vertical-align: top;\n",
       "    }\n",
       "\n",
       "    .dataframe thead th {\n",
       "        text-align: right;\n",
       "    }\n",
       "</style>\n",
       "<table border=\"1\" class=\"dataframe\">\n",
       "  <thead>\n",
       "    <tr style=\"text-align: right;\">\n",
       "      <th></th>\n",
       "      <th>median_age</th>\n",
       "      <th>mean_Fare</th>\n",
       "      <th>Family</th>\n",
       "    </tr>\n",
       "  </thead>\n",
       "  <tbody>\n",
       "    <tr>\n",
       "      <th>0</th>\n",
       "      <td>29.0</td>\n",
       "      <td>23.2500</td>\n",
       "      <td>2.0</td>\n",
       "    </tr>\n",
       "    <tr>\n",
       "      <th>1</th>\n",
       "      <td>30.0</td>\n",
       "      <td>56.9292</td>\n",
       "      <td>0.0</td>\n",
       "    </tr>\n",
       "    <tr>\n",
       "      <th>2</th>\n",
       "      <td>34.0</td>\n",
       "      <td>10.5000</td>\n",
       "      <td>0.0</td>\n",
       "    </tr>\n",
       "    <tr>\n",
       "      <th>3</th>\n",
       "      <td>21.0</td>\n",
       "      <td>73.5000</td>\n",
       "      <td>2.0</td>\n",
       "    </tr>\n",
       "    <tr>\n",
       "      <th>4</th>\n",
       "      <td>62.0</td>\n",
       "      <td>10.5000</td>\n",
       "      <td>0.0</td>\n",
       "    </tr>\n",
       "    <tr>\n",
       "      <th>...</th>\n",
       "      <td>...</td>\n",
       "      <td>...</td>\n",
       "      <td>...</td>\n",
       "    </tr>\n",
       "    <tr>\n",
       "      <th>707</th>\n",
       "      <td>19.0</td>\n",
       "      <td>7.6500</td>\n",
       "      <td>0.0</td>\n",
       "    </tr>\n",
       "    <tr>\n",
       "      <th>708</th>\n",
       "      <td>30.5</td>\n",
       "      <td>7.7500</td>\n",
       "      <td>0.0</td>\n",
       "    </tr>\n",
       "    <tr>\n",
       "      <th>709</th>\n",
       "      <td>21.0</td>\n",
       "      <td>73.5000</td>\n",
       "      <td>0.0</td>\n",
       "    </tr>\n",
       "    <tr>\n",
       "      <th>710</th>\n",
       "      <td>29.0</td>\n",
       "      <td>7.5500</td>\n",
       "      <td>0.0</td>\n",
       "    </tr>\n",
       "    <tr>\n",
       "      <th>711</th>\n",
       "      <td>21.0</td>\n",
       "      <td>8.0500</td>\n",
       "      <td>0.0</td>\n",
       "    </tr>\n",
       "  </tbody>\n",
       "</table>\n",
       "<p>712 rows × 3 columns</p>\n",
       "</div>"
      ],
      "text/plain": [
       "     median_age  mean_Fare  Family\n",
       "0          29.0    23.2500     2.0\n",
       "1          30.0    56.9292     0.0\n",
       "2          34.0    10.5000     0.0\n",
       "3          21.0    73.5000     2.0\n",
       "4          62.0    10.5000     0.0\n",
       "..          ...        ...     ...\n",
       "707        19.0     7.6500     0.0\n",
       "708        30.5     7.7500     0.0\n",
       "709        21.0    73.5000     0.0\n",
       "710        29.0     7.5500     0.0\n",
       "711        21.0     8.0500     0.0\n",
       "\n",
       "[712 rows x 3 columns]"
      ]
     },
     "execution_count": 56,
     "metadata": {},
     "output_type": "execute_result"
    }
   ],
   "source": [
    "df_transformed"
   ]
  },
  {
   "cell_type": "code",
   "execution_count": null,
   "metadata": {},
   "outputs": [],
   "source": []
  }
 ],
 "metadata": {
  "kernelspec": {
   "display_name": "Python 3",
   "language": "python",
   "name": "python3"
  },
  "language_info": {
   "codemirror_mode": {
    "name": "ipython",
    "version": 3
   },
   "file_extension": ".py",
   "mimetype": "text/x-python",
   "name": "python",
   "nbconvert_exporter": "python",
   "pygments_lexer": "ipython3",
   "version": "3.8.3"
  }
 },
 "nbformat": 4,
 "nbformat_minor": 4
}
